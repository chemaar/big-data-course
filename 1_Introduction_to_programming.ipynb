{
  "nbformat": 4,
  "nbformat_minor": 0,
  "metadata": {
    "colab": {
      "name": "1-Introduction to programming",
      "provenance": [],
      "collapsed_sections": [],
      "authorship_tag": "ABX9TyPaukQ0O/NwU4sVQah01h7N",
      "include_colab_link": true
    },
    "kernelspec": {
      "name": "python3",
      "display_name": "Python 3"
    }
  },
  "cells": [
    {
      "cell_type": "markdown",
      "metadata": {
        "id": "view-in-github",
        "colab_type": "text"
      },
      "source": [
        "<a href=\"https://colab.research.google.com/github/chemaar/big-data-course/blob/master/1_Introduction_to_programming.ipynb\" target=\"_parent\"><img src=\"https://colab.research.google.com/assets/colab-badge.svg\" alt=\"Open In Colab\"/></a>"
      ]
    },
    {
      "cell_type": "markdown",
      "metadata": {
        "id": "08ADk7tgHvga",
        "colab_type": "text"
      },
      "source": [
        "# Chapter 1: Introduction to programming"
      ]
    },
    {
      "cell_type": "markdown",
      "metadata": {
        "id": "e8G-jN1TH182",
        "colab_type": "text"
      },
      "source": [
        "## 1.1 Context\n",
        "\n",
        "**Is software eating the world?**\n",
        "\n",
        "The popular web pioneer *Mark Anderssen* pointed out and discussed this question in an article in the New York Times in 2011. He stated that everything is fueled by software. From a business to a personal perspective we can agree that this is completely true.\n",
        "\n",
        "* *Could we find examples of our daily life in which software is participating somehow?*\n",
        "\n",
        "Actually, there are a lot of examples. Usually we understand software as an intangible asset (something that we cannot touch) that is present in computer applications like those we use in our laptop or mobile phones. However, there is much more at stake than the simple existence of software in our personal\n",
        "devices.\n",
        "\n",
        "* *Can you think in some example?*\n",
        "\n",
        "Well, just taking a look around we can find cars, now smart cars that are connected to Internet and can communicate each other to collaborate, for instance to find a car parking, to control the car engine or even to see what is in the next corner. Tesla, Toyota or Continental are good examples of traditional companies that are becoming part of this new wave of smart cars. Aircrafts also contain a good number of software pieces. In our own home we can find very good examples of software-based devices such as smart TVs. Again homes on their own are now smart homes. \n",
        "\n",
        "In our cities, there is also a growing commitment by governments to create new services based on software such as touristic routes or find the best place to eat. We, ourselves, have some software inside. For instance, we use smart bracelets, t-shirts or rings. Besides we have changed a lot our behavior and activities:\n",
        " * *When was the last time you bought a music album? 5 years ago? Maybe for a present?*\n",
        " * *Do you go to a travel agency to make the reservation of a hotel or to buy ticket flights?*\n",
        " * *Have you realized that telephone boxes are now a point of interest to make pictures but not to call?*\n",
        "\n",
        "I guess that you all are now realizing that we have made an evolution controlled or driven by software. Traditional activities can now be made or enjoyed in a different way for instance:\n",
        "\n",
        " * *Have you ever made your shopping basket via a web site?*\n",
        " * *Have you bought clothes in an on-line shop?*\n",
        "\n",
        "I guess, again, your answer, in a high percentage, is **YES**! \n",
        "\n",
        "Indeed, we can agree that software is *eating the world* and changing our habits and traditions.\n",
        "\n",
        "* *Is this new context or environment better or worse?*\n",
        "\n",
        "Well, it depends, we could discuss a lot about it but what it is completely true is that software really seems to be everywhere and that is why we are continuously listening terms such as smart X device, Internet of the Things, cloud computing, mobile sensing, big data, cyber security, etc.\n",
        "\n",
        "Let me ask you a new question: \n",
        "\n",
        "* *Do you think we are then living the fourth industrial revolution?*\n",
        "\n",
        "This phrase “industrial revolution” probably takes you to your foggy memories sitting in the high school in the history class.  Was not something about agriculture or steam engines? Yes, there was and, at least, two centuries ago. However, many experts  claim  that we are living the fourth industrial revolution: cyber-physical systems (this is basically a catch-all term for talking about the integration of smart, internet-connected machines and human labor). In other words, Industrial Revolution 4.0 \"is the production-side equivalent of the consumer-oriented Internet of Things, in which everyday objects from cars to thermostats to toasters will be connected to the internet.\"\n",
        "\n",
        "*\t*When we can consider a new industrial revolution is emerging?*\n",
        "\n",
        "This is not an easy question to answer but we can say that an industrial revolution comes when something happened, a technological advance, and regarding our initial assumptions, everything changes. It is pretty clear that industry 4.0 is here. All indicators suggest that we are going to dive into the age of the smart environments where objects communicates each other for our own benefit improving our workplace, home, city and daily life activities. \n",
        "\n",
        "Furthermore, this new industry cannot be understood without software so software is then: **MY PRECIOUS!**\n",
        "\n",
        "As main conclusion after this introduction to the current impact of software  in our lives, we can think about what does it mean.\n",
        "\n",
        "We have seen some examples of business  that have changed due to the use of software. We have new concepts such as cloud computing or cyber physical systems. We have services that have changed our way of communicating. We have wearables, software that is directly impacting in our personal health and what is most important: all software pieces share a lot of commonalities such as a platform to make comments, to rate the quality of a product or service (the like button is an example) or to represent information in a map.\n"
      ]
    },
    {
      "cell_type": "markdown",
      "metadata": {
        "id": "QRLp07N3IZyB",
        "colab_type": "text"
      },
      "source": [
        "## 1.2 Basic computer architecture\n"
      ]
    },
    {
      "cell_type": "markdown",
      "metadata": {
        "id": "4gel0sem2hmE",
        "colab_type": "text"
      },
      "source": [
        "A computer system can be classified into [two categories](https://learning.oreilly.com/library/view/designing-embedded-hardware/0596007558/ch01.html):\n",
        "1.   A **desktop computer** that is any PC or laptop we use everyday.\n",
        "2.   An **embedded system** that is a kind of software running on top of a hardware architecture for a specific type of device like a TV, a SCADA, a washing machine, a remote control, a toy, etc.\n",
        "\n",
        "Anyway, any computer system has some common building bocks and principles of operation that are essentially the same.\n",
        "\n",
        "A common computer architecture comprises the next three elements or subsystems:\n",
        "1.   **Processor** (CPU: Central Processing Unit). It is the subsystem in charge of **executing** instructions. To measure the velocity of a processor we use Hertz (Hz). Currenlty, there are many types of processors depending on the way instructions are processed. Furthemore, [GPUs](https://www.nvidia.com/es-la/drivers/what-is-gpu-computing/) (Graphics Processing Units) and FPUs (Floatint Point Processing Unit) are gaining momentum due to their  performance to process large amounts of data\n",
        "2.   **Memory**. It is the subsystem in charge of **storing** any type of item such as data and processes. To measure the capacity of a memory we use bytes (B). There are many types of memories: RAM (Random Access Memory), ROM (Read Only Memory), EPROM (Erasable Programmable Read-Only Memory), EEROM (Electrically Erasable Read-Only Memory) Flash, etc. each of them has different uses\n",
        "3.   **Input/Output (I/O)**. It is the subsystem in charge of **coordinating the interaction**, in terms of input and output, between the different elements in the computer system. As examples of input devices we can find a touchable screen, a keyboard, a mouse, etc. output devices: an screen, any display, a speaker, etc. and there are also devices that can be considered for both purposes such as a touchable screen.\n",
        "\n",
        "> ![Basic computer system from the O'Reilly book: \"Designing Embedded Hardware\"](https://learning.oreilly.com/library/view/designing-embedded-hardware/0596007558/httpatomoreillycomsourceoreillyimages61604.png )\n",
        "\n",
        ">*Figure: Basic computer system from the O'Reilly book: \"Designing Embedded Hardware\".*\n",
        "\n",
        "This type of computer architecture is also known as \"[Von-Neumann architecture](https://www.sciencedirect.com/topics/computer-science/von-neumann-architecture)\".\n",
        "\n",
        "Furthemore, any computer has another important element that is in charge of governning the hardware components: the **motherboard**.\n",
        "\n",
        "* A motherboard is the main printed circuit board (PCB) found in any computer system. It is in charge of governing the connection and communication between the CPU, the memory and the I/O system.\n",
        "\n",
        "> ![Example of moterhboard](https://upload.wikimedia.org/wikipedia/commons/thumb/a/a6/Intel_D945GCCR_Socket_775.png/1440px-Intel_D945GCCR_Socket_775.png)\n",
        ">*Figure: Example of motherboard: \"Designing Embedded Hardware\" ([source link](https://commons.wikimedia.org/wiki/File:Intel_D945GCCR_Socket_775.png)).*\n",
        "\n",
        "\n"
      ]
    },
    {
      "cell_type": "markdown",
      "metadata": {
        "id": "mXWhPzZlIbh-",
        "colab_type": "text"
      },
      "source": [
        "## 1.3 What is programming?\n"
      ]
    },
    {
      "cell_type": "markdown",
      "metadata": {
        "id": "0lp0AH33CqBR",
        "colab_type": "text"
      },
      "source": [
        "**Programming** can be defined as the **engineering technique** to establish a set of statements that can be executed by a computer machine. In other words, programming is the art and science of writing computer programs. A computer program can be then defined as a set of sentences that will be executed by a computer machine to accomplish with a task taking an input, making a processing and producing some results.\n",
        "\n",
        "In this manner, programming is an engineering technique to **code programs** that are **translated in some instructions** that machine (a physical machine) can **automatically** and systematically processed.\n",
        "\n",
        "Programming is part of a major process, the **Software Engineering process**, which among other activities comprises: analysis of the problem, design, implementation, testing, production, mainteinance and retirement of a software system. The implementation of a software system will strongly rely on the programming of the system to be able to produce a program that can fulfill a set of pre-defined requirements.\n",
        "\n",
        "\n",
        "\n",
        "A complete description of the art of computer programming can be found in the well-known book of Prof. Donald Knuth (\"[The Art of Computer Programming](https://www-cs-faculty.stanford.edu/~knuth/taocp.html)\")."
      ]
    },
    {
      "cell_type": "markdown",
      "metadata": {
        "id": "KNCYIg0nGBjr",
        "colab_type": "text"
      },
      "source": [
        "Let's make a first program:\n",
        "\n",
        "\n",
        "*   **Input** two numbers: a and b with some constant values\n",
        "*   **Processing**: the program shall be able to add two constant numbers.\n",
        "*   **Output**: the program shall print out the result of adding two numbers.\n",
        "\n"
      ]
    },
    {
      "cell_type": "code",
      "metadata": {
        "id": "jfeFAfM9FHgk",
        "colab_type": "code",
        "outputId": "4efe581a-b6d9-4968-a066-6c4f616e23e5",
        "colab": {
          "base_uri": "https://localhost:8080/",
          "height": 34
        }
      },
      "source": [
        "a = 2\n",
        "b = 3\n",
        "c = a + b\n",
        "print (\"The sum of a {} + b {} is {}\".format(a,b,c))"
      ],
      "execution_count": 13,
      "outputs": [
        {
          "output_type": "stream",
          "text": [
            "The sum of a 2 + b 3 is 5\n"
          ],
          "name": "stdout"
        }
      ]
    },
    {
      "cell_type": "markdown",
      "metadata": {
        "id": "6r3avN3hGhVq",
        "colab_type": "text"
      },
      "source": [
        "In this very first program, we can see some interesting elements:\n",
        "* Variables\n",
        "* Operators\n",
        "* An statament\n",
        "* A print sentence\n",
        "\n",
        "These are some of the elements we have to code programs that are part of a **programming language**.\n",
        "\n",
        "We can put another more complex example in which we generate values to print the `sin(x)` and `cos(x)`."
      ]
    },
    {
      "cell_type": "code",
      "metadata": {
        "id": "OQtqo-FGHVfV",
        "colab_type": "code",
        "outputId": "62ea03c3-31b6-4591-9164-074e278c02ba",
        "colab": {
          "base_uri": "https://localhost:8080/",
          "height": 295
        }
      },
      "source": [
        "import matplotlib.pyplot as plt\n",
        "import numpy as np\n",
        "%matplotlib inline\n",
        "x = np.arange(0, 10, 0.1)   \n",
        "y = np.sin(x)\n",
        "z = np.cos(x)\n",
        "\n",
        "plt.plot(x,y,x,z)\n",
        "plt.xlabel('Time')  # string must be enclosed with quotes '  '\n",
        "plt.ylabel('sin(x) and cos(x)')\n",
        "plt.title('Plot of sin and cos')\n",
        "plt.legend(['sin(x)', 'cos(x)'])  \n",
        "plt.show()"
      ],
      "execution_count": 14,
      "outputs": [
        {
          "output_type": "display_data",
          "data": {
            "image/png": "[encoded data removed]",
            "text/plain": [
              "<Figure size 432x288 with 1 Axes>"
            ]
          },
          "metadata": {
            "tags": []
          }
        }
      ]
    },
    {
      "cell_type": "markdown",
      "metadata": {
        "id": "R1qwrH4rkDan",
        "colab_type": "text"
      },
      "source": [
        "### 1.3.1 Overview of the main programming paradigms\n",
        "\n",
        "**A programming paradigm is a philosophy, style, or general approach to write and execute code.**\n",
        "\n",
        "There are different programming paradigms that depend on the way we express the instructions (the programming language) and how they are executed. A common classification divides the programming paradigms in two main styles:\n",
        "\n",
        "1.   **Imperative**: the programmer exactly indicates how the machine evolves and changes its state. It is like the extensional definition of a set (Which are the elements of the set?).\n",
        "2.   **Declarative**: the programmer declares which are the properties to process and execute functions, then the computer applies the paradigm to any input. Examples here are functional and logical programming. It is like the intensional definition of a set (which are the properties of the set to become a member?)\n",
        "\n",
        "Later, in this chapter, we will see the notion of programming language. Programming languages are designed to support a programming style, although some languages like **Python** support different types.\n",
        "\n",
        "Following, an example of adding up numbers of a list is showed.\n",
        "\n",
        "\n"
      ]
    },
    {
      "cell_type": "code",
      "metadata": {
        "id": "Ji9vzcozme8O",
        "colab_type": "code",
        "outputId": "237b8259-9b63-4b7d-e3a9-d99c722ae11c",
        "colab": {
          "base_uri": "https://localhost:8080/",
          "height": 51
        }
      },
      "source": [
        "#Sum the elements of a list\n",
        "items = [1,2,3,4]\n",
        "\n",
        "#Imperative programming\n",
        "sum = 0\n",
        "for item in items: #for each element in the list, we aggregate values\n",
        "  sum = sum + item\n",
        "\n",
        "print(\"Imperative sum is: \"+str(sum))\n",
        "#Declarative programming (functional)\n",
        "\n",
        "from functools import reduce\n",
        "\n",
        "#Syntax: reduce(function, sequence[, initial]) -> value\n",
        "#Given a function, add, and a sequence of elements, apply this function to all alements and return a result\n",
        "result = reduce(lambda x, y: x+y, items)\n",
        "print(\"Functional sum is: \"+str(result))"
      ],
      "execution_count": 15,
      "outputs": [
        {
          "output_type": "stream",
          "text": [
            "Imperative sum is: 10\n",
            "Functional sum is: 10\n"
          ],
          "name": "stdout"
        }
      ]
    },
    {
      "cell_type": "markdown",
      "metadata": {
        "id": "I18sg5jRJaMZ",
        "colab_type": "text"
      },
      "source": [
        "## 1.4 What is an algorithm?"
      ]
    },
    {
      "cell_type": "markdown",
      "metadata": {
        "id": "4j2xt8BLIgty",
        "colab_type": "text"
      },
      "source": [
        "General speaking, an algorithm is a set of instructions that are defined to accomplish with a task in a finite time. It is a step-by-step method to solve a problem.\n",
        "\n",
        "* Can you think in examples of algorithms we do every day?\n",
        "\n",
        "A more formal definition of an algorithm is as follows:\n",
        "\n",
        "```\n",
        "An algorithm is an ordered set of unambiguous, executable steps that defines a terminating process.\n",
        "```\n",
        "\n",
        "Building on this definition, which are the characteristics of an algoritm?\n",
        "\n",
        "* It is **finite**. An algorithm must always finish, although the number of steps or the time to execute them can be potentially huge.\n",
        "* It is **defined**. Each step of an algorithm is perfectly defined without any ambiguity. \n",
        "* It has some **input**. Usually any algorithm will take some input data to process.\n",
        "* It produces some result (**output**). After making the processing of the input data, the algorithm will provide some result.\n",
        "* It is **effective** and (**efficient?**). The algorithm is expected to make a good use of the resources of a computer: memory, processor and input/output system. This means, that generally speaking, we have to think in algorithms to consume as less resources as possible. In small problems, this is not maybe an issue, but in a large scale, it can have a large impact in terms of time or consumption of resources. \n",
        "\n",
        "Let's put an example, what is the algorithm to calculate the factorial of an positive integer number?\n",
        "\n",
        "* Given a natural number n, n>=0, the factorial is calculated as follows: f(n) = n * f(n-1)\n",
        "  * Input: a natural number, altough the algorithm must work for any number.\n",
        "  * Output: a natural number or an error message if the factorial cannot be calculated.\n",
        "\n"
      ]
    },
    {
      "cell_type": "code",
      "metadata": {
        "id": "OPNVi9wEL_gJ",
        "colab_type": "code",
        "outputId": "eadf8ecf-361b-4a0f-b3bb-d177cf18d147",
        "colab": {
          "base_uri": "https://localhost:8080/",
          "height": 34
        }
      },
      "source": [
        "#Try to change the value of n and run the code\n",
        "\n",
        "#Input\n",
        "n = 5\n",
        "factorial = 1\n",
        "error = 0\n",
        "\n",
        "#Processsing\n",
        "if n < 0:\n",
        "  error = 1\n",
        "elif n == 0 or n == 1:\n",
        "  factorial = 1\n",
        "else:\n",
        "  for i in range (1, n+1):\n",
        "    factorial = factorial * i\n",
        "\n",
        "#Output\n",
        "if error:\n",
        "  print(\"To calculate the factorial, n must be greater or equal 0\")\n",
        "else:\n",
        "  print (\"The factorial of {} is {}.\".format(n, factorial))"
      ],
      "execution_count": 16,
      "outputs": [
        {
          "output_type": "stream",
          "text": [
            "The factorial of 5 is 120.\n"
          ],
          "name": "stdout"
        }
      ]
    },
    {
      "cell_type": "markdown",
      "metadata": {
        "id": "T_pIVz1NPRRa",
        "colab_type": "text"
      },
      "source": [
        "Finally, just a remark in regards to the efficiency of algorithms, there is a way of measuring this characteristic by calculating the complexity in terms of the number of instructions (time) to be executed depending on some input (n). In general, there are different levels such as:\n",
        "\n",
        "*   Constant: O(k)\n",
        "*   Logarithmic: O(log n)\n",
        "*   Linear: O(n)\n",
        "*   Quadratic: O(n<sup>2</sup>) \n",
        "*   ...\n",
        "*   Exponential: O(2<sup>n</sup>)\n",
        "*   NP-Hard\n",
        "\n"
      ]
    },
    {
      "cell_type": "markdown",
      "metadata": {
        "id": "zuiS24CEJqo-",
        "colab_type": "text"
      },
      "source": [
        "## 1.5 What is a programming language?\n",
        "\n",
        "A **programming language **can be defined as a **language** in which we can express sentences that can be then intepreted and/or executed by a computer machine. A programming language, as any other type of language, includes elements to build correct statements from lexical, syntactical and semantics point of views. \n",
        "\n",
        "Let's think a bit about the **meaning of a language**, Which elements and processes can we find in any language?\n",
        "\n",
        "* *Do we have a set of characters or symbols?*\n",
        "* *Do we have a set of words (a lexicon) that is build using those characters?*\n",
        "* *Do we have a set of rules or grammar to build correct statements?*\n",
        "* *Do we have a way of interpreting the statements? What an adjective or and adverb means?*\n",
        "\n",
        "Once, you have an answer for these questions, let's summarize in the following table a mapping between a natural language (like Spanish or English) and a programming language.\n",
        "\n",
        "\n",
        "Natural language | Example | Programming language | Example\n",
        "--- | --- | --- | ---\n",
        "Character set | a, b, c, etc. | Character set | a, b, c, etc.\n",
        "Words | \"hello\" | Tokens | `print`\n",
        " Grammar (syntax) | ```<subject> <predicate> <object>``` | Grammar (syntax) | ```<identifier> = <expression>```\n",
        "Meaning (semantics) | \"A way of greeting...\" | Meaning (semantics) | \"Assignment of a value to a variable\"\n",
        "\n",
        "As you can see, both have a lot of commonalities. We need characters to build workds (that in computer programming are called **tokens**). There are some grammar rules that help use to \"speak\" properly and, finally, there are some semantics that allow us to have a common understanding of the statements. \n",
        "\n",
        "What happened if we find an issue in any of these levels?\n",
        "\n",
        "* *Character or symbol not recognized*. This means we are using some character that does not belong to the language and, it is not a valid character. It cannot be use to build any word in that language.\n",
        "*  *Undefined token*. This means we are using a word that does not exist in the dictionary. The word is not part of vocabulary. \n",
        "* *Expected a . at the end of the stament*. This means that we are not fulfilling the rules to write (structurally) a valid statament. The statement is not accepted by the language syntax.\n",
        "* *The expression shall return an integer value.*. In natural language, the semantics focuses on the interpretation of the words and their combination in a sentence. It is assumed to be the same regardless who is reading the sentence. In a programming language, semantics means that the interpretation of the sentences must be correct as well. It is not possible to assign a string literal to an integer value, it does not make sense since they are not the same.\n",
        "\n",
        "**As a summary, a programming language is a formal language to express correct instructions that can be executed by a computer machine.**\n",
        "\n",
        "\n",
        "### 1.5.1 Types of programming languages\n",
        "\n",
        "Firstly, it is necessary to understand that we are working in a logical/virtual level and the instructions that we code in a program will be translated into physical pulses. \n",
        "\n",
        "There are many classifications of programming languages depending on this level of abstraction, programming paradigm, generation, compiled/interpreted etc.\n",
        "\n",
        "\n",
        "#### **Level of abstraction**\n",
        "\n",
        "1. **Low level programming languages**. There are programming languages which code is written in a code close to a machine language. An assembly programming language like X86 is an example.\n",
        "\n",
        ">```\n",
        ">        .global main\n",
        ">\n",
        ">        .text\n",
        ">main:                                   # This is called by C library's >startup code\n",
        ">        mov     $message, %rdi          # First integer (or pointer) parameter >in %rdi\n",
        ">        call    puts                    # puts(message)\n",
        ">        ret                             # Return to C library code\n",
        ">message:\n",
        ">        .asciz \"Hello, world!\"            # asciz puts a 0 byte at the end\n",
        ">```\n",
        ">Source: [x86 Assembly Language Programming](https://cs.lmu.edu/~ray/notes/x86assembly/)\n",
        "\n",
        "Programs create in assembly code have the following characteristics:\n",
        "* They are *efficient* in terms of memory management and very fast.\n",
        "* They take advantage of the *hardware architecture*.\n",
        "* They can directly *manipulate elements* of the CPU and memory.\n",
        "\n",
        "On the other hand, these programming languages bring some disadvantages:\n",
        "\n",
        "* **Portability**, since they are machine and architecture specific cannot be easily ported to other architectures.\n",
        "* **Productivity** of programmers is constrained.  The development, debugging and maintainance processes are complicated and more prone error.\n",
        "* **Dependency** on the knowledge that a programmer can have of the machine and computer architecture.\n",
        "\n",
        "2.   **Mid-level programming languages**. These programming languages have features from both low-level and high-level programming languages. This means it is possible to manage resources (like the memory) at a low-level but you also have primitives and a complete programming language (syntax and semantics) similar to a high-level programming language. As an example, the C programming language could be considered a mid-level programming language.\n",
        "\n",
        "3.  **High-level programming languages**. These languages are close to the human language in terms of having a lexicon, a syntax and a semantics. They have primitive to easily manage computer resources and the program flow. Here, Python, Java, C++ are just examples of high-level programming language.\n",
        "\n",
        "\n",
        "\n",
        "\n",
        "\n",
        "\n",
        "\n",
        "\n"
      ]
    },
    {
      "cell_type": "code",
      "metadata": {
        "id": "zW6JpMw4OUzl",
        "colab_type": "code",
        "colab": {
          "base_uri": "https://localhost:8080/",
          "height": 34
        },
        "outputId": "399409de-7cff-40c3-cd13-0f386be3709b"
      },
      "source": [
        "#Simple instruction to say: Hello World!\n",
        "print (\"Hello World!\")"
      ],
      "execution_count": 17,
      "outputs": [
        {
          "output_type": "stream",
          "text": [
            "Hello World!\n"
          ],
          "name": "stdout"
        }
      ]
    },
    {
      "cell_type": "markdown",
      "metadata": {
        "id": "fLmTmEapOXih",
        "colab_type": "text"
      },
      "source": [
        "The main advantages of these programming languages are (improvement of low-level programming languages):\n",
        "* *High-level of abstraction* to manage computer resources and control flow.\n",
        "* They are *machine-independent*.\n",
        "* *Productivity*, they are easy to learn improving the productivity of programmers.\n",
        "\n",
        "While the main disadvantages come:\n",
        "* **Compilation time**. It will take sometime to translate the high-level structures into machine instructions.\n",
        "* **Execution or interpretation time**. Currently, compilers are superb tools that can optimize the code that is generated. However, there are still routines that can be improved at a low-level.\n",
        "* **Efficiency**. Since the number and type of instructions generated by the compiler can change, more instructions will be then executed.\n",
        "\n",
        "In general, high-level programming languages are preferred for solving most of the problems we can find in many domains. "
      ]
    },
    {
      "cell_type": "markdown",
      "metadata": {
        "id": "D_feVarTP61C",
        "colab_type": "text"
      },
      "source": [
        "\n",
        "#### **Programming paradigm**\n",
        "\n",
        "As it has been introduced in the previous section, there are two main types of paradigms: \n",
        "* Imperative\n",
        "* Declarative\n",
        "\n",
        "#### **Generation**\n",
        "\n",
        "In general, the generation of a programming language depends mainly on its level of abstraction and, in many cases, in the time it was designed. There are 5 different levels:\n",
        "\n",
        "1. 1G Languages. Low-level languages like machine language.\n",
        "2. 2G Languages. Low-level assembly languages used in kernels and hardware drives.\n",
        "3. 3G Languages. High-level languages like Python, C, C++, Java, Visual Basic and JavaScript.\n",
        "4. 4G Languages. Languages which statements are close human language such as SQL or MatLab (MatrixLaboratory).\n",
        "5. 5G Languages. Domain-specific programming languages like Prolog (for logics).\n",
        "\n",
        "#### **Type of program execution**\n",
        "\n",
        "* Native (machine-dependent, executable file). The compiling and linking process will generate a native executable file that will be executed by the operating system.\n",
        "* Interpreted (an interpreter, a virtual machine). The compiling process will generate some intermediate language (like Bytecode in Java or IL en .NET) that is then executed by an interpreter or virtual machine. In this manner, we add a new layer of abstraction to our programs. It is not necessary to build different versions of a program for the different platforms, but, what it is necessary is an intepreter for each platform. Let's say we separate the execution of the program from the machine.\n",
        "\n",
        "#### **Type of management of data and operations**\n",
        "\n",
        "* Procedural programming. The program is modularized in procedures that take as an input some data and return some result. The way we think in programs is in functions that may perform some operation. C, Pascal or even Python can be classified as procedural programming languages.\n",
        "* Object-oriented programming. In this case, we model a problem with objects that have some attributes (data) and methods (operations). When an object is created, it has a state that evolves (object lifetime) depending on the operations that are being executed. Java, C++, C# use this object abstraction to model solutions.\n",
        "* Functional programming. It is similar to procedural programming but it is a kind of computing style in which the functions are formally defined avoiding side-effects. Haskell and Python are examples of this type of language.\n",
        "* Logic programming. There are languages that can be used to model a problem as a set of logic restrictions that are then solved by a reasoner. Prolog is an example of this type of language.\n",
        "* Prototype-oriented programming. Similar to object-oriented programming, here the programming languages define the notion of a class as a prototype that can receive any message for getting an attribute or a method. This prototype is similar to the notion of interface in object-oriented programming. Javascript and Python are examples of this type of programming language.\n",
        "\n",
        "#### **Datatypes management**\n",
        "\n",
        "* Strong typing. When we declare an element of the program like a variable, a function or a function parameter, we must establish a type (e.g. integer, float, date, etc.). In this manner, the compiler can check whether the program contains type error (usually checking the semantics) and, before, executing the program we already know: 1) the size that the program will initially take in the memory and 2) if the assignments and function invocations are correct. These programming languages are usually more secure than those with duck typing. They prevent some common errors. Java, C++ or C are examples of these programming languages.\n",
        "* Duck typing. The name \"duck\" comes from the this sentence \"If it looks like a duck, swims like a duck, and quacks like a duck, then it probably is a duck.\" If we apply this concept to types in a programming language, it means that we can declare elements of the program without indicating the type. The compiler will not detect typing errors, and, only during the execution errors will be detected throwing an exception. The strategy to assign a type are mainly two: 1) type of the value that is assigned for the first time to a variable and 2) each time that a value is assigned, the variable will take the type of that value. The programming languages with duck typing are more prone to errors. Python, Scala or Ruby are examples of this category.\n",
        "\n",
        "\n",
        "\n"
      ]
    },
    {
      "cell_type": "code",
      "metadata": {
        "id": "j7lnjjm7usAl",
        "colab_type": "code",
        "colab": {
          "base_uri": "https://localhost:8080/",
          "height": 137
        },
        "outputId": "39033ad9-ae81-4dbb-d2e0-bc6437773fa1"
      },
      "source": [
        "#Example of a function in Python\n",
        "\n",
        "def sum(a,b):\n",
        "  return a + b\n",
        "\n",
        "print(\"The sum is: \"+str(sum (2,3)))\n",
        "\n",
        "#Example of a class in Python\n",
        "\n",
        "class Person:\n",
        "  def __init__(self, name, age):\n",
        "    self.name = name\n",
        "    self.age = age\n",
        "  def say_hello(self):\n",
        "    return (\"I am {} and I am {} years old.\".format(self.name, self.age))\n",
        "\n",
        "p = Person(\"Jose\", 37)\n",
        "print(\"Name: \"+p.name)\n",
        "print(\"Age: \"+str(p.age))\n",
        "print(p.say_hello())\n",
        "\n",
        "#Example of functional programming in Python\n",
        "\n",
        "values = [1,2,3,4,5,6]\n",
        "#Leave only the values > 3 generating a new list\n",
        "filtered_values = [x for x in values if x>3]\n",
        "print(filtered_values)\n",
        "\n",
        "#Example of duck typing in Python\n",
        "\n",
        "a = 5 #We know a is now of type integer\n",
        "print(type(a))\n",
        "a = \"Hello\" #Now a is of type string\n",
        "print(type(a))"
      ],
      "execution_count": 18,
      "outputs": [
        {
          "output_type": "stream",
          "text": [
            "The sum is: 5\n",
            "Name: Jose\n",
            "Age: 37\n",
            "I am Jose and I am 37 years old.\n",
            "[4, 5, 6]\n",
            "<class 'int'>\n",
            "<class 'str'>\n"
          ],
          "name": "stdout"
        }
      ]
    },
    {
      "cell_type": "markdown",
      "metadata": {
        "id": "m5UJ8jnorb5r",
        "colab_type": "text"
      },
      "source": [
        "**As a summary of this section, a programming language can be classified into many different categories depending on the aspect we are evaluating.**\n",
        "\n",
        ">A programming language like Python is a high-level programming language that  belongs to the 3-4 generation and includes capabilities for both imperative and declarative programming. It has an abstraction to create classes (prototype-style) and it contains some features for funtional programmnig."
      ]
    },
    {
      "cell_type": "markdown",
      "metadata": {
        "id": "Md94Of0EJxfX",
        "colab_type": "text"
      },
      "source": [
        "## 1.6 Foundations of problem solving: analysis, design, implementation and testing\n",
        "\n",
        "Our main purpose in this course is to learn how to analyze problems and design and code solutions in Python. \n",
        "\n",
        "However, the development of a software project comprises many processes, activities and tasks what is also known as software development lifecycle (SDLC). Let me give you some examples, if we are architects before starting to build a bridge or a building we have first to design a solution and when everything is defined we can start building. \n",
        "\n",
        "Again if we are a chef and we want to create a menu we have to make a plan, buy food and ingredients, prepare the kitchen utensils and finally, when everything is ready we can start cooking. So in software development we follow a similar approach. Before coding we have to carry out different activities: analyze the problem, design a solution, code the solution and test.  \n",
        "\n",
        "\n",
        "### The software development lifecycle (SDLC)\n",
        "\n",
        "Basically, the SDLC is the process, activities and tasks we do to deliver a software that is verified and validated. In other words, a working software that is reliable, robust, secure, etc. and makes what it must do. \"Do the right thing right\". Everything has a lifecyle, and, in the software world, we have the software lifecycle.\n",
        "\n",
        "> ![System life cyle](https://github.com/chemaar/python-programming-course/raw/master/imgs/lifecycle.png)\n",
        "> Figure: Lifecycle vs System Lifecycle.\n",
        "\n",
        "There are many SDLCs but, in our context, we will focus on the basic SDLC, a kind of cascade covering: analysis, design, coding and testing.\n",
        "\n",
        ">![Basic SDLC](https://github.com/chemaar/python-programming-course/raw/master/imgs/basic_sdlc.png)\n",
        "> Figure: A basic SDLC.\n",
        "\n",
        "* **Analysis**. We basically solve a question \"What?\". We must understand a problem, extract the required functionalities (and non-functional requirements such as performance, the \"-ilities\": usability, accesibility, etc.) getting as a outcome a set of functional requirements. We work in the problem domain.\n",
        "* **Design**. In this stage, we solve a question \"How?\". We formulate a solution for the problem (we model a solution) or to meet the defined requirements. In the context of this course, a design would be a kind of pseudo-code or flow diagram in most of cases.\n",
        "* **Coding**. We implement the solution in a programming language.\n",
        "* **Testing**. We verify (\"do the thing right\") and validate (\"do the right thing\") that the program is working properly. There are many testing techniques but, basically, for us a kind of white-box and black-box testing is enough. White-box texting means that we can ensure that any sentence in the program has been executed and works properly. Black-box testing means that the functionalities of our program have been testing using techniques such as limit values.\n",
        "\n",
        "\n",
        "\n"
      ]
    },
    {
      "cell_type": "code",
      "metadata": {
        "id": "B4UqNXL94pY3",
        "colab_type": "code",
        "colab": {
          "base_uri": "https://localhost:8080/",
          "height": 34
        },
        "outputId": "9b20cb6b-7cca-4bf5-9d94-97c622711d9e"
      },
      "source": [
        "#Given two integer numbers, make a program that adds both numbers and displays the result\n",
        "#Analysis: it is the own statement of the problem\n",
        "#Design: we declare two variables, we load values and we perform the operation (+) showing the result in the console\n",
        "#Testing: \n",
        "#Test Case description: we input 2 and 3, the program shall show 5\n",
        "\n",
        "a = 2\n",
        "b = 3\n",
        "result = a+b\n",
        "print(result)"
      ],
      "execution_count": 19,
      "outputs": [
        {
          "output_type": "stream",
          "text": [
            "5\n"
          ],
          "name": "stdout"
        }
      ]
    },
    {
      "cell_type": "markdown",
      "metadata": {
        "id": "6aqNrbamIcNY",
        "colab_type": "text"
      },
      "source": [
        "## 1.7 Information encoding\n",
        "\n",
        "See the specific slides."
      ]
    },
    {
      "cell_type": "code",
      "metadata": {
        "id": "5k3YZSRMw2kE",
        "colab_type": "code",
        "colab": {
          "base_uri": "https://localhost:8080/",
          "height": 86
        },
        "outputId": "ea84e8d0-5a0c-424f-968f-90fac0289489"
      },
      "source": [
        "#Binary: notice the format 0b\n",
        "a = 0b11001\n",
        "print(int(a))\n",
        "#Decimal\n",
        "a = 25\n",
        "print(a)\n",
        "#Octal: notice the format 0o\n",
        "a = 0o31\n",
        "print(int(a))\n",
        "#Hexadecimal: notice the format 0x\n",
        "a = 0x19\n",
        "print(int(a))"
      ],
      "execution_count": 20,
      "outputs": [
        {
          "output_type": "stream",
          "text": [
            "25\n",
            "25\n",
            "25\n",
            "25\n"
          ],
          "name": "stdout"
        }
      ]
    },
    {
      "cell_type": "markdown",
      "metadata": {
        "id": "avsy6gXdK8CB",
        "colab_type": "text"
      },
      "source": [
        "## 1.8 The Python programming language\n",
        "\n",
        "Python was designed in the late 1980s by Guido van Rossum (CWI, Google) inspired by the ABC programming language (a general-purpose language and environment created in the CWI, Netherlands).\n",
        "\n",
        "> ![Guido_van_Rossum](https://upload.wikimedia.org/wikipedia/commons/thumb/9/94/Guido_van_Rossum_OSCON_2006_cropped.png/160px-Guido_van_Rossum_OSCON_2006_cropped.png)\n",
        "\n",
        "> Figure: Guido van Rossum. Source: Wikimedia. \n",
        "\n",
        "Initially, the Python creator and other developers were thinking in a programming language that will fulfill some requirements (see the next section, The Zen of Python). The philosopy behind Python is that** code must be readable helping programmers to write clean code**. As we have introduced, Python is a general-purpose programming language that supports multiple programming paradigm: procedural, object-oriented, and functional programming. It also includes a large library of functionalities (modules that offer some specific capabilities).\n",
        "\n",
        "There are Python interpreters for most of the operating systems and a community of developers maintains the [CPython](https://github.com/python/cpython), an open source reference implementation. Currently, [Python is in its version 3.8.1](https://www.python.org/downloads/).\n",
        "\n",
        "The name of \"Python\" comes as a tribute to the Monty Python group.\n",
        "\n",
        "The use of Python can be found in [many domains and sectors](https://realpython.com/world-class-companies-using-python/):\n",
        "\n",
        "* Google\n",
        "* Facebook\n",
        "* Instagram\n",
        "* Spotify\n",
        "* Quora\n",
        "* Netflix\n",
        "* Dropbox\n",
        "* Reddit\n",
        "* Microsoft\n",
        "\n",
        "Last times, Python is keeping a good battle to be the main programming language for data science. (see the next video)\n",
        "\n",
        "\n",
        "### The Zen of Python (not for studying)\n",
        "* Beautiful is better than ugly.\n",
        "* Explicit is better than implicit.\n",
        "* Simple is better than complex.\n",
        "* Complex is better than complicated.\n",
        "* Flat is better than nested.\n",
        "* Sparse is better than dense.\n",
        "* Readability counts.\n",
        "* Special cases aren't special enough to break the rules.\n",
        "* Although practicality beats purity.\n",
        "* Errors should never pass silently.\n",
        "* Unless explicitly silenced.\n",
        "* In the face of ambiguity, refuse the temptation to guess.\n",
        "* There should be one -- and preferably only one -- obvious way to do it.\n",
        "* Although that way may not be obvious at first unless you're Dutch.\n",
        "* Now is better than never.\n",
        "* Although never is often better than *right* now.\n",
        "* If the implementation is hard to explain, it's a bad idea.\n",
        "* If the implementation is easy to explain, it may be a good idea.\n",
        "* Namespaces are one honking great idea -- let's do more of those!"
      ]
    },
    {
      "cell_type": "code",
      "metadata": {
        "id": "ThOald3j_qli",
        "colab_type": "code",
        "colab": {
          "base_uri": "https://localhost:8080/",
          "height": 336
        },
        "outputId": "8de4d2fd-d003-4625-9385-387a65abdf20"
      },
      "source": [
        "from IPython.display import HTML\n",
        "\n",
        "HTML(\"\"\"\n",
        "<iframe width=\"560\" height=\"315\" src=\"https://www.youtube.com/embed/Og847HVwRSI\" frameborder=\"0\" allow=\"accelerometer; autoplay; encrypted-media; gyroscope; picture-in-picture\" allowfullscreen></iframe>\n",
        "\"\"\")"
      ],
      "execution_count": 21,
      "outputs": [
        {
          "output_type": "execute_result",
          "data": {
            "text/html": [
              "\n",
              "<iframe width=\"560\" height=\"315\" src=\"https://www.youtube.com/embed/Og847HVwRSI\" frameborder=\"0\" allow=\"accelerometer; autoplay; encrypted-media; gyroscope; picture-in-picture\" allowfullscreen></iframe>\n"
            ],
            "text/plain": [
              "<IPython.core.display.HTML object>"
            ]
          },
          "metadata": {
            "tags": []
          },
          "execution_count": 21
        }
      ]
    },
    {
      "cell_type": "markdown",
      "metadata": {
        "id": "5OQPfEDhIdJv",
        "colab_type": "text"
      },
      "source": [
        "## Interesting quotes\n",
        "\n",
        "* \"I'm not a great programmer; I'm just a good programmer with great habits\". Kent Beck.\n",
        "* \"Any fool can write code that a computer can understand. Good programmers write code that humans can understand.\" Martin Fowler.\n",
        "\n"
      ]
    }
  ]
}